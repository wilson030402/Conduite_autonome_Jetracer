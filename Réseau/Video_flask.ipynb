{
 "cells": [
  {
   "cell_type": "code",
   "execution_count": null,
   "id": "f1a7ffb3",
   "metadata": {},
   "outputs": [
    {
     "name": "stdout",
     "output_type": "stream",
     "text": [
      " * Serving Flask app '__main__' (lazy loading)\n",
      " * Environment: production\n",
      "\u001b[31m   WARNING: This is a development server. Do not use it in a production deployment.\u001b[0m\n",
      "\u001b[2m   Use a production WSGI server instead.\u001b[0m\n",
      " * Debug mode: off\n"
     ]
    },
    {
     "name": "stderr",
     "output_type": "stream",
     "text": [
      " * Running on all addresses.\n",
      "   WARNING: This is a development server. Do not use it in a production deployment.\n",
      " * Running on http://192.168.0.104:5000/ (Press CTRL+C to quit)\n",
      "192.168.0.77 - - [23/Aug/2024 13:04:50] \"GET /video_feed HTTP/1.1\" 200 -\n"
     ]
    }
   ],
   "source": [
    "from flask import Flask, Response\n",
    "from jetcam.csi_camera import CSICamera\n",
    "import cv2\n",
    "\n",
    "app = Flask(__name__)\n",
    "\n",
    "# Initialize the camera\n",
    "camera = CSICamera(width=224, height=224, capture_fps=30)\n",
    "\n",
    "def gen_frames():  \n",
    "    while True:\n",
    "        # Capture frame-by-frame\n",
    "        frame = camera.read()\n",
    "        \n",
    "        # Convert the frame to JPEG format\n",
    "        ret, buffer = cv2.imencode('.jpg', frame)\n",
    "        frame = buffer.tobytes()\n",
    "        \n",
    "        # Yield the output frame in byte format\n",
    "        yield (b'--frame\\r\\n'\n",
    "               b'Content-Type: image/jpeg\\r\\n\\r\\n' + frame + b'\\r\\n')  \n",
    "\n",
    "@app.route('/video_feed')\n",
    "def video_feed():\n",
    "    # Video streaming route\n",
    "    return Response(gen_frames(), mimetype='multipart/x-mixed-replace; boundary=frame')\n",
    "\n",
    "if __name__ == '__main__':\n",
    "    app.run(host='0.0.0.0', port=5000)"
   ]
  },
  {
   "cell_type": "code",
   "execution_count": 14,
   "id": "bc863692",
   "metadata": {},
   "outputs": [
    {
     "name": "stdout",
     "output_type": "stream",
     "text": [
      "Received number: 42\n",
      "Latency: 33.22 ms\n",
      "Received number: 42\n",
      "Latency: 28.86 ms\n",
      "Received number: 42\n",
      "Latency: 25.86 ms\n",
      "Received number: 42\n",
      "Latency: 26.78 ms\n",
      "Received number: 42\n",
      "Latency: 23.13 ms\n",
      "Received number: 42\n",
      "Latency: 29.69 ms\n",
      "Received number: 42\n",
      "Latency: 24.93 ms\n",
      "Received number: 42\n",
      "Latency: 28.68 ms\n",
      "Received number: 42\n",
      "Latency: 30.93 ms\n",
      "Received number: 42\n",
      "Latency: 23.97 ms\n"
     ]
    }
   ],
   "source": [
    "import requests\n",
    "import time\n",
    "\n",
    "def get_number(server_ip, number):\n",
    "    start_time = time.time()  # Temps avant l'envoi de la requête\n",
    "    response = requests.get(f'http://{server_ip}:5000/send_number/{number}')\n",
    "    end_time = time.time()  # Temps après la réception de la réponse\n",
    "    \n",
    "    if response.status_code == 200:\n",
    "        latency = end_time - start_time\n",
    "        data = response.json()\n",
    "        print(f\"Received number: {data['number']}\")\n",
    "        print(f\"Latency: {latency * 1000:.2f} ms\")  # Affiche la latence en millisecondes\n",
    "    else:\n",
    "        print(\"Failed to retrieve number\")\n",
    "\n",
    "if __name__ == '__main__':\n",
    "    server_ip = '192.168.0.77'  # Remplacez cela par l'IP du serveur\n",
    "    for i in range (10):\n",
    "        get_number(server_ip, 42)\n"
   ]
  },
  {
   "cell_type": "code",
   "execution_count": 2,
   "id": "f594c5af",
   "metadata": {},
   "outputs": [
    {
     "name": "stdout",
     "output_type": "stream",
     "text": [
      "Data sent successfully\n"
     ]
    }
   ],
   "source": [
    "import requests\n",
    "import json\n",
    "\n",
    "# Adresse du serveur Flask avec le schéma http://\n",
    "url = \"http://192.168.0.77:5000/receive_data\"\n",
    "data = {'x': 0.5}  # Test avec une valeur statique pour simplifier\n",
    "\n",
    "try:\n",
    "    response = requests.post(url, json=data)\n",
    "    if response.status_code == 200:\n",
    "        print(\"Data sent successfully\")\n",
    "    else:\n",
    "        print(f\"Failed to send data, status code: {response.status_code}\")\n",
    "except requests.exceptions.RequestException as e:\n",
    "    print(f\"Error sending data: {e}\")\n"
   ]
  },
  {
   "cell_type": "code",
   "execution_count": null,
   "id": "eda5cbf8",
   "metadata": {},
   "outputs": [],
   "source": []
  }
 ],
 "metadata": {
  "kernelspec": {
   "display_name": "Python 3 (ipykernel)",
   "language": "python",
   "name": "python3"
  },
  "language_info": {
   "codemirror_mode": {
    "name": "ipython",
    "version": 3
   },
   "file_extension": ".py",
   "mimetype": "text/x-python",
   "name": "python",
   "nbconvert_exporter": "python",
   "pygments_lexer": "ipython3",
   "version": "3.10.12"
  }
 },
 "nbformat": 4,
 "nbformat_minor": 5
}
